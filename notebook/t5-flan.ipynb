{
 "cells": [
  {
   "cell_type": "code",
   "execution_count": 1,
   "metadata": {},
   "outputs": [],
   "source": [
    "!pip -q install git+https://github.com/huggingface/transformers # need to install from github\n",
    "!pip -q install datasets loralib sentencepiece \n",
    "!pip -q install bitsandbytes accelerate"
   ]
  },
  {
   "cell_type": "code",
   "execution_count": 2,
   "metadata": {},
   "outputs": [
    {
     "name": "stderr",
     "output_type": "stream",
     "text": [
      "/home/uns/.local/lib/python3.8/site-packages/tqdm/auto.py:21: TqdmWarning: IProgress not found. Please update jupyter and ipywidgets. See https://ipywidgets.readthedocs.io/en/stable/user_install.html\n",
      "  from .autonotebook import tqdm as notebook_tqdm\n"
     ]
    }
   ],
   "source": [
    "from transformers import T5Tokenizer, T5ForConditionalGeneration\n",
    "# from utils.notebook_util import NotebookUtil, Prompter\n",
    "\n",
    "from notebook_util import NotebookUtil, Prompter"
   ]
  },
  {
   "cell_type": "code",
   "execution_count": 10,
   "metadata": {},
   "outputs": [
    {
     "name": "stdout",
     "output_type": "stream",
     "text": [
      "WE ARE FLOWBIRD\n",
      "Flowbird offers end to end Smart mobility, Parking and Electric Vehicle charging solutions. We provide towns and cities with the tools to make mobility in urban areas simple, multimodal and environmentally friendly, and the ability to understand and manage this mobility.\n",
      "Partnering with local administrations and operators for over 65 years, we provide apps, terminals, kerbside management, enforcement - and the software to manage these remotely. We upgrade existing physical terminals to digital terminals with new services and tariffs and open them up to integrate third party apps. Flowbird orchestrates sales, payments, reporting, invoices and fines across multiple endpoints, also providing the data insights needed to inform decisions.\n",
      "\n",
      "---\n",
      "\n",
      "FLOWBIRD global payment platform manages more than 300M banking transactions a year. Over 100 million users per week in 80+ countries trust Flowbird's expertise, R&D and technology partnerships to reduce air pollution, provide EV charging, upgrade terminals, optimize traffic, manage enforcement, simplify payments and make urban spaces more vibrant and secure.\n",
      "\n",
      "---\n",
      "\n",
      "OUR MISSION\n",
      "To facilitate the individual journey and maximize a city's unique mobility potential, while considering all city stakeholders and end-user experiences. Through our devices, elite service platform and our teams, we enable a new era for maximizing urban harmony and value throughout the city's core.\n",
      "\n",
      "---\n",
      "\n",
      "FLOWBIRD CREATE SMART MOBILITY IN SMART CITIES\n",
      "The density of urban area continues to grow. The challenges of mobility are becoming crucial and communities all over the world are facing new trends, integrating or proposing new uses, a new way of living in the city. Multimodal and connected, the city of tomorrow will be “smart” or will not be!\n",
      "Flowbird is the partner of cities for more than 60 years. It's unique portfolio of solutions , kiosks & mobile phone payment, are connected to a global technology platform delivering day to day benefits to end users and city decision makers.\n",
      "With Flowbird, the city becomes EASIER, SAFER, FASTER.\n",
      "\n",
      "---\n",
      "\n",
      "INNOVATION\n",
      "Flowbird set a new business standard together with our customers. We continuously improve and renew our products, services and work methods in order to simplify people's everyday life and to become more effective and cost saving. We improve and invent new ways of packaging and offering our products and services.\n",
      "\n",
      "---\n",
      "\n",
      "OPENNESS\n",
      "Flowbird has an open and straightforward communication with our customers and partners. We discuss challenges and opportunities openly within Flowbird. We offer open interfaces to our products and services in order to enable integration to other systems to create a higher value\n",
      "\n",
      "---\n",
      "\n",
      "RELIABILITY\n",
      "City services access are to be organized according users profiles and their city contributions. Our systems are the link between all the profiles and payments, offering the best service experience whilst ensuring city policies effectiveness. To support this approach we offer an ever-increasing number of payment & control methods.\n",
      "\n",
      "---\n",
      "\n",
      "WITH FLOWBIRD APP PARKING BECOMES EASIER.\n",
      "Flowbird mobile app allows you to pay for parking in 3 simple steps. No more cash needed. Pay from anywhere. Avoid parking fines. No more waiting in line at the parking meter. Parking becomes easier, safer and faster with the Flowbird mobile app. Join our mobile parking community for free and experience the advantage of Flowbird.\n",
      "\n",
      "\n",
      "---\n",
      "\n",
      "WHAT WE DO\n",
      "At Flowbird, we develop and improve our products together with our customers, mainly cities and private operators. Together we work to stay in the forefront of global trends and changes within the parking industry. We listen to the needs of our customers based on everyday experience of drivers/parkers. We ensure that we are continually working to improve technology in line with what motorists want in order to make parking a pleasant experience. All this helps us ensure that our concept remains successful in an ever-changing world and contributes to making cities connected and smarter.\n",
      "\n",
      "---\n",
      "\n",
      "INCREASED EFFICIENCY\n",
      "Instead of paper tickets, payment is linked to the vehicle's registration number. Payment can be made via our mobile app or at a parking terminal. The parking user may have a valid residents permit for their vehicle. The parking enforcement officers scan the registration number and can then see whether the fee has been paid or not.\n",
      "\n",
      "---\n",
      "\n",
      "TOUCHSCREEN INTERFACE\n",
      "To address new digital behaviors and ensure the best user experience when it comes to parking payment and other services, Flowbird offers a secure 10-inch color touch screen that allows zooming, sliding,  and with interfaces and operating sequences similar to those of the mobile apps which users are already familiar with.\n",
      "\n",
      "\n",
      "---\n",
      "\n",
      "IMPROVED CONTROL\n",
      "Access to aggregated information about the entire parking operation. When your analysis of data is more efficient and effective, the customers' willingness to pay increases.\n",
      "\n",
      "---\n",
      "\n",
      "KIOSK & TERMINALS\n",
      "Parking terminals are often the direct link between a motorist and a parking system. They need to be tough, reliable, and easy to use. Flowbird´s terminals can withstand virtually any environment, be fully customisable and built with the future in mind.\n",
      "\n",
      "---\n",
      "\n",
      "FLOWBIRD ANALYTICS CONTROL\n",
      "Flowbird Analytics Control is a tool for managing and mapping the deployment of parking enforcement officers. It is used to supervise enforcement areas containing a defined number of parking spaces. Secondly, it enables data to be collected and analysed by extraction from activity reports.\n",
      "\n",
      "---\n",
      "\n",
      "SUPERVISION FOR ACCURATE REPORTS\n",
      "Flowbird Analytics Control lets you program the available parking spaces and map the enforcement areas where the officers are operating, to provide accurate and precise analyses and reports. Connecting the service to a single server provides the interface between PDAs (enforcement by officers) and ANPR (automatic enforcement vehicle). This provides the supervisor an overview of the checks completed as well as the dematerialized transactions carried out using the ticket machines and the Flowbird application.\n",
      "\n",
      "---\n",
      "\n",
      "COMBAT FRAUD\n",
      "Flowbird Analytics Control supervision provides precise guidance for enforcement officers, making it possible to create routes calculated for more efficient and better distributed rounds over service zones to combat parking fraud. Enforcement Officers are directed using geolocation to vehicles suspected of repeated fraud (ANPR pre-check) to avoid scanning all vehicles. So operating costs and recovery rates are optimised. This action, spread over the different round zones, enables rapid and regular collection of payments and fines.\n",
      "\n",
      "\n",
      "---\n",
      "\n",
      "JOINING UP TOWNS AND CITIES\n",
      "On a global stage, Flowbird creates value for public transport operators, local authorities and citizens through innovations in automatic fare collection, real-time data management and digital technologies.\n",
      "By integrating ticketing and journey validation with ID-based and smart, contactless payment systems, and implementing congestion reduction strategies, we are helping towns and cities to plan for a future demanding seamless multi-modal travel.\n",
      "Flowbird's key focus is to design and manufacture innovative quality products and services that can stand alone or be integrated with wider systems for our customers across the globe, backed up with a world class customer service experience.\n",
      "\n",
      "---\n",
      "\n",
      "At Flowbird, our mission is to make it easier, safer and quicker for people to access and use public transport. We do this by providing operators and transit authorities of every size with the tools, systems and information they need to serve their customers better.\n",
      "By optimising operator efficiency and harmonising the flow of people and traffic, we create more sustainable transport systems, improve social cohesion and stimulate economic development.\n",
      "\n",
      "[\n",
      "    \"WE ARE FLOWBIRD\\nFlowbird offers end to end Smart mobility, Parking and Electric Vehicle charging solutions. We provide towns and cities with the tools to make mobility in urban areas simple, multimodal and environmentally friendly, and the ability to understand and manage this mobility.\\nPartnering with local administrations and operators for over 65 years, we provide apps, terminals, kerbside management, enforcement - and the software to manage these remotely. We upgrade existing physical terminals to digital terminals with new services and tariffs and open them up to integrate third party apps. Flowbird orchestrates sales, payments, reporting, invoices and fines across multiple endpoints, also providing the data insights needed to inform decisions.\\n\",\n",
      "    \"\\nFLOWBIRD global payment platform manages more than 300M banking transactions a year. Over 100 million users per week in 80+ countries trust Flowbird's expertise, R&D and technology partnerships to reduce air pollution, provide EV charging, upgrade terminals, optimize traffic, manage enforcement, simplify payments and make urban spaces more vibrant and secure.\\n\",\n",
      "    \"\\nOUR MISSION\\nTo facilitate the individual journey and maximize a city's unique mobility potential, while considering all city stakeholders and end-user experiences. Through our devices, elite service platform and our teams, we enable a new era for maximizing urban harmony and value throughout the city's core.\\n\",\n",
      "    \"\\nFLOWBIRD CREATE SMART MOBILITY IN SMART CITIES\\nThe density of urban area continues to grow. The challenges of mobility are becoming crucial and communities all over the world are facing new trends, integrating or proposing new uses, a new way of living in the city. Multimodal and connected, the city of tomorrow will be \\u201csmart\\u201d or will not be!\\nFlowbird is the partner of cities for more than 60 years. It's unique portfolio of solutions , kiosks & mobile phone payment, are connected to a global technology platform delivering day to day benefits to end users and city decision makers.\\nWith Flowbird, the city becomes EASIER, SAFER, FASTER.\\n\",\n",
      "    \"\\nINNOVATION\\nFlowbird set a new business standard together with our customers. We continuously improve and renew our products, services and work methods in order to simplify people's everyday life and to become more effective and cost saving. We improve and invent new ways of packaging and offering our products and services.\\n\",\n",
      "    \"\\nOPENNESS\\nFlowbird has an open and straightforward communication with our customers and partners. We discuss challenges and opportunities openly within Flowbird. We offer open interfaces to our products and services in order to enable integration to other systems to create a higher value\\n\",\n",
      "    \"\\nRELIABILITY\\nCity services access are to be organized according users profiles and their city contributions. Our systems are the link between all the profiles and payments, offering the best service experience whilst ensuring city policies effectiveness. To support this approach we offer an ever-increasing number of payment & control methods.\\n\",\n",
      "    \"\\nWITH FLOWBIRD APP PARKING BECOMES EASIER.\\nFlowbird mobile app allows you to pay for parking in 3 simple steps. No more cash needed. Pay from anywhere. Avoid parking fines. No more waiting in line at the parking meter. Parking becomes easier, safer and faster with the Flowbird mobile app. Join our mobile parking community for free and experience the advantage of Flowbird.\\n\\n\",\n",
      "    \"\\nWHAT WE DO\\nAt Flowbird, we develop and improve our products together with our customers, mainly cities and private operators. Together we work to stay in the forefront of global trends and changes within the parking industry. We listen to the needs of our customers based on everyday experience of drivers/parkers. We ensure that we are continually working to improve technology in line with what motorists want in order to make parking a pleasant experience. All this helps us ensure that our concept remains successful in an ever-changing world and contributes to making cities connected and smarter.\\n\",\n",
      "    \"\\nINCREASED EFFICIENCY\\nInstead of paper tickets, payment is linked to the vehicle's registration number. Payment can be made via our mobile app or at a parking terminal. The parking user may have a valid residents permit for their vehicle. The parking enforcement officers scan the registration number and can then see whether the fee has been paid or not.\\n\",\n",
      "    \"\\nTOUCHSCREEN INTERFACE\\nTo address new digital behaviors and ensure the best user experience when it comes to parking payment and other services, Flowbird offers a secure 10-inch color touch screen that allows zooming, sliding,  and with interfaces and operating sequences similar to those of the mobile apps which users are already familiar with.\\n\\n\",\n",
      "    \"\\nIMPROVED CONTROL\\nAccess to aggregated information about the entire parking operation. When your analysis of data is more efficient and effective, the customers' willingness to pay increases.\\n\",\n",
      "    \"\\nKIOSK & TERMINALS\\nParking terminals are often the direct link between a motorist and a parking system. They need to be tough, reliable, and easy to use. Flowbird\\u00b4s terminals can withstand virtually any environment, be fully customisable and built with the future in mind.\\n\",\n",
      "    \"\\nFLOWBIRD ANALYTICS CONTROL\\nFlowbird Analytics Control is a tool for managing and mapping the deployment of parking enforcement officers. It is used to supervise enforcement areas containing a defined number of parking spaces. Secondly, it enables data to be collected and analysed by extraction from activity reports.\\n\",\n",
      "    \"\\nSUPERVISION FOR ACCURATE REPORTS\\nFlowbird Analytics Control lets you program the available parking spaces and map the enforcement areas where the officers are operating, to provide accurate and precise analyses and reports. Connecting the service to a single server provides the interface between PDAs (enforcement by officers) and ANPR (automatic enforcement vehicle). This provides the supervisor an overview of the checks completed as well as the dematerialized transactions carried out using the ticket machines and the Flowbird application.\\n\",\n",
      "    \"\\nCOMBAT FRAUD\\nFlowbird Analytics Control supervision provides precise guidance for enforcement officers, making it possible to create routes calculated for more efficient and better distributed rounds over service zones to combat parking fraud. Enforcement Officers are directed using geolocation to vehicles suspected of repeated fraud (ANPR pre-check) to avoid scanning all vehicles. So operating costs and recovery rates are optimised. This action, spread over the different round zones, enables rapid and regular collection of payments and fines.\\n\\n\",\n",
      "    \"\\nJOINING UP TOWNS AND CITIES\\nOn a global stage, Flowbird creates value for public transport operators, local authorities and citizens through innovations in automatic fare collection, real-time data management and digital technologies.\\nBy integrating ticketing and journey validation with ID-based and smart, contactless payment systems, and implementing congestion reduction strategies, we are helping towns and cities to plan for a future demanding seamless multi-modal travel.\\nFlowbird's key focus is to design and manufacture innovative quality products and services that can stand alone or be integrated with wider systems for our customers across the globe, backed up with a world class customer service experience.\\n\",\n",
      "    \"\\nAt Flowbird, our mission is to make it easier, safer and quicker for people to access and use public transport. We do this by providing operators and transit authorities of every size with the tools, systems and information they need to serve their customers better.\\nBy optimising operator efficiency and harmonising the flow of people and traffic, we create more sustainable transport systems, improve social cohesion and stimulate economic development.\\n\"\n",
      "]\n"
     ]
    }
   ],
   "source": [
    "dataset_name = 'flowbird-april--flan-alpaca-gpt4-xl'\n",
    "\n",
    "\n",
    "# model_name = 'google/flan-t5-xl'\n",
    "model_name = 'declare-lab/flan-alpaca-gpt4-xl'\n",
    "\n",
    "\n",
    "question_prompter = Prompter(template_name=\"generate_question_t5\", runner=\"local\")\n",
    "answer_prompter = Prompter(template_name=\"generate_answer_t5\", runner=\"local\")\n",
    "\n",
    "dataset = NotebookUtil.load_dataset(dataset_name)\n",
    "\n",
    "text_cases = NotebookUtil.load_raw_data_text()"
   ]
  },
  {
   "cell_type": "code",
   "execution_count": 6,
   "metadata": {},
   "outputs": [
    {
     "name": "stderr",
     "output_type": "stream",
     "text": [
      "Downloading spiece.model: 100%|██████████| 792k/792k [00:00<00:00, 16.8MB/s]\n",
      "Downloading (…)cial_tokens_map.json: 100%|██████████| 2.20k/2.20k [00:00<00:00, 1.55MB/s]\n",
      "Downloading (…)okenizer_config.json: 100%|██████████| 2.35k/2.35k [00:00<00:00, 2.47MB/s]\n",
      "Downloading (…)lve/main/config.json: 100%|██████████| 1.53k/1.53k [00:00<00:00, 713kB/s]\n",
      "Downloading (…)model.bin.index.json: 100%|██████████| 50.8k/50.8k [00:00<00:00, 1.87MB/s]\n",
      "Downloading (…)l-00001-of-00002.bin: 100%|██████████| 9.45G/9.45G [05:58<00:00, 26.3MB/s]\n",
      "Downloading (…)l-00002-of-00002.bin: 100%|██████████| 1.95G/1.95G [01:14<00:00, 26.2MB/s]\n",
      "Downloading shards: 100%|██████████| 2/2 [07:14<00:00, 217.11s/it]\n",
      "Loading checkpoint shards: 100%|██████████| 2/2 [00:21<00:00, 10.93s/it]\n",
      "Downloading (…)neration_config.json: 100%|██████████| 142/142 [00:00<00:00, 141kB/s]\n"
     ]
    }
   ],
   "source": [
    "tokenizer = T5Tokenizer.from_pretrained(model_name)\n",
    "\n",
    "base_model = T5ForConditionalGeneration.from_pretrained(\n",
    "    model_name\n",
    ").to(\"cuda\")"
   ]
  },
  {
   "cell_type": "code",
   "execution_count": null,
   "metadata": {},
   "outputs": [],
   "source": [
    "!nvidia-smi"
   ]
  },
  {
   "cell_type": "code",
   "execution_count": 14,
   "metadata": {},
   "outputs": [
    {
     "name": "stdout",
     "output_type": "stream",
     "text": [
      "1. What are the key features of Flowbird's Smart mobility solutions? 2. How does Flowbird work with local administrations and operators to provide end-to-end Smart mobility solutions? 3. How does Flowbird upgrade existing physical terminals to digital terminals with new services and tariffs?\n"
     ]
    }
   ],
   "source": [
    "q_prompt = question_prompter.generate_prompt(\n",
    "    '',\n",
    "    text_cases[0]\n",
    ")\n",
    "output = NotebookUtil.t5_generate(q_prompt, tokenizer, base_model)\n",
    "print(output)"
   ]
  },
  {
   "attachments": {},
   "cell_type": "markdown",
   "metadata": {},
   "source": [
    "# TODO\n",
    "\n",
    "* make new quesiton splitter"
   ]
  },
  {
   "cell_type": "code",
   "execution_count": null,
   "metadata": {},
   "outputs": [],
   "source": []
  },
  {
   "cell_type": "code",
   "execution_count": null,
   "metadata": {},
   "outputs": [],
   "source": []
  },
  {
   "attachments": {},
   "cell_type": "markdown",
   "metadata": {},
   "source": [
    "max new token 1000\n",
    "top-p 0.95\n",
    "top-l 50\n",
    "temperature 1"
   ]
  },
  {
   "cell_type": "code",
   "execution_count": null,
   "metadata": {},
   "outputs": [],
   "source": []
  }
 ],
 "metadata": {
  "kernelspec": {
   "display_name": "Python 3",
   "language": "python",
   "name": "python3"
  },
  "language_info": {
   "codemirror_mode": {
    "name": "ipython",
    "version": 3
   },
   "file_extension": ".py",
   "mimetype": "text/x-python",
   "name": "python",
   "nbconvert_exporter": "python",
   "pygments_lexer": "ipython3",
   "version": "3.8.10"
  },
  "orig_nbformat": 4
 },
 "nbformat": 4,
 "nbformat_minor": 2
}
