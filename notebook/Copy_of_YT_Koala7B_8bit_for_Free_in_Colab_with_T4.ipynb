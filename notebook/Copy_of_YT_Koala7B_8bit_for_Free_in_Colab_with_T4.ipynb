{
 "cells": [
  {
   "cell_type": "code",
   "execution_count": 1,
   "metadata": {
    "colab": {
     "base_uri": "https://localhost:8080/"
    },
    "id": "1VJ7lfTYz0qu",
    "outputId": "20b4c81d-5992-4c2a-a79f-a894ad7dba1c",
    "scrolled": true
   },
   "outputs": [],
   "source": [
    "!pip -q install git+https://github.com/huggingface/transformers # need to install from github\n",
    "!pip -q install datasets loralib sentencepiece \n",
    "!pip -q install bitsandbytes accelerate"
   ]
  },
  {
   "cell_type": "code",
   "execution_count": 2,
   "metadata": {
    "id": "MK_96JPU0fgQ"
   },
   "outputs": [
    {
     "name": "stderr",
     "output_type": "stream",
     "text": [
      "/home/uns/.local/lib/python3.8/site-packages/tqdm/auto.py:21: TqdmWarning: IProgress not found. Please update jupyter and ipywidgets. See https://ipywidgets.readthedocs.io/en/stable/user_install.html\n",
      "  from .autonotebook import tqdm as notebook_tqdm\n"
     ]
    }
   ],
   "source": [
    "import os\n",
    "import re\n",
    "import json\n",
    "# import torch\n",
    "import textwrap\n",
    "import os.path as osp\n",
    "from typing import Union\n",
    "from transformers import LlamaTokenizer, LlamaForCausalLM, GenerationConfig, pipeline"
   ]
  },
  {
   "cell_type": "code",
   "execution_count": 3,
   "metadata": {},
   "outputs": [],
   "source": [
    "# config\n",
    "dataset_name = 'flowbird-april--koala-7b'\n",
    "model_name = 'samwit/koala-7b'\n",
    "# model_name = 'chavinlo/alpaca-native'\n"
   ]
  },
  {
   "cell_type": "code",
   "execution_count": 4,
   "metadata": {
    "id": "lHAMGhEW0ldH"
   },
   "outputs": [
    {
     "name": "stderr",
     "output_type": "stream",
     "text": [
      "Overriding torch_dtype=None with `torch_dtype=torch.float16` due to requirements of `bitsandbytes` to enable model loading in mixed int8. Either pass torch_dtype=torch.float16 or don't pass this argument at all to remove this warning.\n"
     ]
    },
    {
     "name": "stdout",
     "output_type": "stream",
     "text": [
      "\n",
      "===================================BUG REPORT===================================\n",
      "Welcome to bitsandbytes. For bug reports, please run\n",
      "\n",
      "python -m bitsandbytes\n",
      "\n",
      " and submit this information together with your error trace to: https://github.com/TimDettmers/bitsandbytes/issues\n",
      "================================================================================\n",
      "bin /home/uns/.local/lib/python3.8/site-packages/bitsandbytes/libbitsandbytes_cpu.so\n",
      "CUDA_SETUP: WARNING! libcudart.so not found in any environmental path. Searching in backup paths...\n",
      "CUDA SETUP: WARNING! libcuda.so not found! Do you have a CUDA driver installed? If you are on a cluster, make sure you are on a CUDA machine!\n",
      "CUDA SETUP: Loading binary /home/uns/.local/lib/python3.8/site-packages/bitsandbytes/libbitsandbytes_cpu.so...\n"
     ]
    },
    {
     "name": "stderr",
     "output_type": "stream",
     "text": [
      "/home/uns/.local/lib/python3.8/site-packages/bitsandbytes/cuda_setup/main.py:145: UserWarning: WARNING: The following directories listed in your path were found to be non-existent: {PosixPath('unix')}\n",
      "  warn(msg)\n",
      "/home/uns/.local/lib/python3.8/site-packages/bitsandbytes/cuda_setup/main.py:145: UserWarning: WARNING: The following directories listed in your path were found to be non-existent: {PosixPath('VSCODE_WSL_EXT_LOCATION/up')}\n",
      "  warn(msg)\n",
      "/home/uns/.local/lib/python3.8/site-packages/bitsandbytes/cuda_setup/main.py:145: UserWarning: WARNING: The following directories listed in your path were found to be non-existent: {PosixPath('/home/uns/go/bin')}\n",
      "  warn(msg)\n",
      "/home/uns/.local/lib/python3.8/site-packages/bitsandbytes/cuda_setup/main.py:145: UserWarning: WARNING: The following directories listed in your path were found to be non-existent: {PosixPath('vs/workbench/api/node/extensionHostProcess')}\n",
      "  warn(msg)\n",
      "/home/uns/.local/lib/python3.8/site-packages/bitsandbytes/cuda_setup/main.py:145: UserWarning: WARNING: The following directories listed in your path were found to be non-existent: {PosixPath('module'), PosixPath('//matplotlib_inline.backend_inline')}\n",
      "  warn(msg)\n",
      "/home/uns/.local/lib/python3.8/site-packages/bitsandbytes/cuda_setup/main.py:145: UserWarning: WARNING: The following directories listed in your path were found to be non-existent: {PosixPath('/usr/local/cuda/lib64')}\n",
      "  warn(msg)\n",
      "/home/uns/.local/lib/python3.8/site-packages/bitsandbytes/cuda_setup/main.py:145: UserWarning: WARNING: No libcudart.so found! Install CUDA or the cudatoolkit package (anaconda)!\n",
      "  warn(msg)\n",
      "/home/uns/.local/lib/python3.8/site-packages/bitsandbytes/cuda_setup/main.py:145: UserWarning: WARNING: No GPU detected! Check your CUDA paths. Proceeding to load CPU-only library...\n",
      "  warn(msg)\n",
      "Loading checkpoint shards: 100%|██████████| 14/14 [00:09<00:00,  1.41it/s]\n"
     ]
    }
   ],
   "source": [
    "tokenizer = LlamaTokenizer.from_pretrained(model_name)\n",
    "\n",
    "base_model = LlamaForCausalLM.from_pretrained(\n",
    "    model_name,\n",
    "    load_in_8bit=True,\n",
    "    device_map='auto',\n",
    ")\n"
   ]
  },
  {
   "cell_type": "code",
   "execution_count": 5,
   "metadata": {
    "colab": {
     "base_uri": "https://localhost:8080/"
    },
    "id": "wJSkqjrYva2a",
    "outputId": "c75c91e8-7a05-40cb-94d9-a5a2e100f0a1"
   },
   "outputs": [
    {
     "name": "stdout",
     "output_type": "stream",
     "text": [
      "Thu Apr 20 21:18:39 2023       \n",
      "+---------------------------------------------------------------------------------------+\n",
      "| NVIDIA-SMI 530.30.04              Driver Version: 531.29       CUDA Version: 12.1     |\n",
      "|-----------------------------------------+----------------------+----------------------+\n",
      "| GPU  Name                  Persistence-M| Bus-Id        Disp.A | Volatile Uncorr. ECC |\n",
      "| Fan  Temp  Perf            Pwr:Usage/Cap|         Memory-Usage | GPU-Util  Compute M. |\n",
      "|                                         |                      |               MIG M. |\n",
      "|=========================================+======================+======================|\n",
      "|   0  NVIDIA GeForce RTX 3090         On | 00000000:01:00.0  On |                  N/A |\n",
      "| 53%   45C    P2              116W / 350W|  10815MiB / 24576MiB |      6%      Default |\n",
      "|                                         |                      |                  N/A |\n",
      "+-----------------------------------------+----------------------+----------------------+\n",
      "                                                                                         \n",
      "+---------------------------------------------------------------------------------------+\n",
      "| Processes:                                                                            |\n",
      "|  GPU   GI   CI        PID   Type   Process name                            GPU Memory |\n",
      "|        ID   ID                                                             Usage      |\n",
      "|=======================================================================================|\n",
      "|    0   N/A  N/A      2540      C   /python3.8                                N/A      |\n",
      "+---------------------------------------------------------------------------------------+\n"
     ]
    }
   ],
   "source": [
    "!nvidia-smi"
   ]
  },
  {
   "cell_type": "code",
   "execution_count": 15,
   "metadata": {
    "id": "odWWkO_81HIl"
   },
   "outputs": [
    {
     "name": "stdout",
     "output_type": "stream",
     "text": [
      "CPU times: user 237 µs, sys: 55 µs, total: 292 µs\n",
      "Wall time: 295 µs\n"
     ]
    }
   ],
   "source": [
    "%%time\n",
    "\n",
    "# decent configs\n",
    "pipe = pipeline(\n",
    "    \"text-generation\",\n",
    "    model=base_model, \n",
    "    tokenizer=tokenizer, \n",
    "    max_length=612,\n",
    "    temperature=0.2,\n",
    "    top_p=0.95,\n",
    "    repetition_penalty=1.1\n",
    ")\n",
    "\n",
    "# default from https://www.youtube.com/watch?v=kSLcedGSez8&t=310s\n",
    "# pipe = pipeline(\n",
    "#     \"text-generation\",\n",
    "#     model=base_model, \n",
    "#     tokenizer=tokenizer, \n",
    "#     max_length=512,\n",
    "#     temperature=0.7,\n",
    "#     top_p=0.95,\n",
    "#     repetition_penalty=1.15\n",
    "# )\n",
    "\n",
    "\n",
    "# pipe = pipeline(\n",
    "#     \"text-generation\",\n",
    "#     model=base_model, \n",
    "#     tokenizer=tokenizer, \n",
    "#     max_length=512,\n",
    "#     temperature=0.3,\n",
    "#     top_p=0.95,\n",
    "#     repetition_penalty=1.1\n",
    "# )\n",
    "\n",
    "def wrap_text_preserve_newlines(text, width=110):\n",
    "    # Split the input text into lines based on newline characters\n",
    "    lines = text.split('\\n')\n",
    "\n",
    "    # Wrap each line individually\n",
    "    wrapped_lines = [textwrap.fill(line, width=width) for line in lines]\n",
    "\n",
    "    # Join the wrapped lines back together using newline characters\n",
    "    wrapped_text = '\\n'.join(wrapped_lines)\n",
    "\n",
    "    return wrapped_text"
   ]
  },
  {
   "cell_type": "code",
   "execution_count": 21,
   "metadata": {
    "id": "DE_cImNYcsAy"
   },
   "outputs": [],
   "source": [
    "\n",
    "\n",
    "class Prompter(object):\n",
    "    __slots__ = (\"template\", \"_verbose\")\n",
    "\n",
    "    def __init__(self, template_name: str = \"\", verbose: bool = False, runner: str = 'google-colab'):\n",
    "        self._verbose = verbose\n",
    "        \n",
    "        base_path = '../templates/'\n",
    "        if runner == 'google-colab':\n",
    "            base_path = '/content/'\n",
    "        \n",
    "        \n",
    "        if not template_name:\n",
    "            # Enforce the default here, so the constructor can be called with '' and will not break.\n",
    "            template_name = \"alpaca\"\n",
    "        file_name = osp.join(base_path, f\"{template_name}.json\")\n",
    "        if not osp.exists(file_name):\n",
    "            raise ValueError(f\"Can't read {file_name}\")\n",
    "        with open(file_name) as fp:\n",
    "            self.template = json.load(fp)\n",
    "        if self._verbose:\n",
    "            print(\n",
    "                f\"Using prompt template {template_name}: {self.template['description']}\"\n",
    "            )\n",
    "\n",
    "    def generate_prompt(\n",
    "        self,\n",
    "        instruction: str,\n",
    "        input: Union[None, str] = None,\n",
    "        label: Union[None, str] = None,\n",
    "    ) -> str:\n",
    "        # returns the full prompt from instruction and optional input\n",
    "        # if a label (=response, =output) is provided, it's also appended.\n",
    "        if input:\n",
    "            res = self.template[\"prompt_input\"].format(\n",
    "                instruction=instruction, input=input\n",
    "            )\n",
    "        else:\n",
    "            res = self.template[\"prompt_no_input\"].format(\n",
    "                instruction=instruction\n",
    "            )\n",
    "        if label:\n",
    "            res = f\"{res}{label}\"\n",
    "        if self._verbose:\n",
    "            print(res)\n",
    "        return res\n",
    "\n",
    "    def get_response(self, output: str) -> str:\n",
    "        return output.split(self.template[\"response_split\"])[1].strip()\n",
    "\n",
    "question_prompter = Prompter(template_name=\"generate_question\", runner=\"local\")\n",
    "answer_prompter = Prompter(template_name=\"generate_answer\", runner=\"local\")\n"
   ]
  },
  {
   "cell_type": "code",
   "execution_count": 8,
   "metadata": {},
   "outputs": [],
   "source": [
    "# get data set\n",
    "\n",
    "\n",
    "dataset = []\n",
    "dataset_path = osp.join('../dataset/', f\"{dataset_name}.json\")\n",
    "\n",
    "\n",
    "try:\n",
    "    fp = open(dataset_path)\n",
    "    dataset = json.load(fp)\n",
    "except:\n",
    "    dataset = []    \n",
    "\n",
    "    \n",
    "def save_dataset():\n",
    "    with open(dataset_path, 'w') as fp:\n",
    "        json.dump(dataset, fp, ensure_ascii=False, indent=2)\n",
    "        "
   ]
  },
  {
   "cell_type": "code",
   "execution_count": 9,
   "metadata": {
    "id": "SITCakdmiogu"
   },
   "outputs": [],
   "source": [
    "\n",
    "\n",
    "def extract_response(text: str):\n",
    "    splitted = text.split('### Response:\\n')\n",
    "    return splitted[1].strip()\n",
    "\n",
    "\n",
    "# def response_to_array(text: str):\n",
    "#     pattern = r'^d\\.\\s{3}'\n",
    "#     questions = text.rsplit(pattern);\n",
    "#     qs_cleaned = [];\n",
    "    \n",
    "#     for q in questions: \n",
    "#         q_cleaned = re.split(pattern, q)[1]\n",
    "#         qs_cleaned.append(q_cleaned)\n",
    "    \n",
    "#     return qs_cleaned\n",
    "\n",
    "def fix_encoding_output(text: str):\n",
    "    start_encode_pattern = r\"\\<ol start=\\\"(\\d)\\\"\\>\\<li\\>\"\n",
    "    end_encode_pattern = r\"\\<\\/li\\>\\<\\/ol\\>\"\n",
    "\n",
    "    text = re.sub(start_encode_pattern, r\"\\1.   \", text)\n",
    "    text = re.sub(end_encode_pattern, \"\", text)\n",
    "    \n",
    "    return text\n",
    "\n",
    "\n",
    "def response_to_array(text: str):\n",
    "    # clean up encoding issue\n",
    "\n",
    "    \n",
    "    \n",
    "    splitter_pattern = r\"^\\d.\\s{3}\"\n",
    "    responses_cleand = re.split(splitter_pattern, text, 0, re.MULTILINE);\n",
    "    return responses_cleand"
   ]
  },
  {
   "cell_type": "code",
   "execution_count": 30,
   "metadata": {},
   "outputs": [],
   "source": [
    "\n",
    "def process_raw_text(text: str):\n",
    "    q_prompt = question_prompter.generate_prompt(\n",
    "        '',\n",
    "        text\n",
    "    )\n",
    "    output = pipe(q_prompt)\n",
    "    # print(wrap_text_preserve_newlines(output[0]['generated_text']))\n",
    "    \n",
    "\n",
    "    output[0]['generated_text'] = fix_encoding_output(output[0]['generated_text'])\n",
    "    questions = extract_response(output[0]['generated_text'])\n",
    "\n",
    "    questions_array = response_to_array(questions)\n",
    "    \n",
    "    \n",
    "    a_prompt = answer_prompter.generate_prompt(\n",
    "        text,\n",
    "        questions\n",
    "    )\n",
    "    output = pipe(a_prompt)\n",
    "    \n",
    "    output[0]['generated_text'] = fix_encoding_output(output[0]['generated_text'])\n",
    "    print('\\n\\n')\n",
    "    print(wrap_text_preserve_newlines(output[0]['generated_text']))\n",
    "    answers = extract_response(output[0]['generated_text'])\n",
    "\n",
    "    answers_array = response_to_array(answers)\n",
    "    \n",
    "    for i, q in enumerate(questions_array):\n",
    "        if not q:\n",
    "            continue\n",
    "        data = {\n",
    "            \"instruction\": questions_array[i],\n",
    "            \"input\": \"In context of Flowbird Group\",\n",
    "            \"output\": answers_array[i]\n",
    "        }\n",
    "        dataset.append(data);\n",
    "\n",
    "\n"
   ]
  },
  {
   "cell_type": "code",
   "execution_count": 11,
   "metadata": {},
   "outputs": [
    {
     "name": "stdout",
     "output_type": "stream",
     "text": [
      "[\n",
      "    \"WE ARE FLOWBIRD\\nFlowbird offers end to end Smart mobility, Parking and Electric Vehicle charging solutions. We provide towns and cities with the tools to make mobility in urban areas simple, multimodal and environmentally friendly, and the ability to understand and manage this mobility.\\nPartnering with local administrations and operators for over 65 years, we provide apps, terminals, kerbside management, enforcement - and the software to manage these remotely. We upgrade existing physical terminals to digital terminals with new services and tariffs and open them up to integrate third party apps. Flowbird orchestrates sales, payments, reporting, invoices and fines across multiple endpoints, also providing the data insights needed to inform decisions.\\n\",\n",
      "    \"\\nFLOWBIRD STATISTIC IN 2023\\n80 Countries\\n4,350 Cities\\n350,000,000 Transactions per year\\n2,000,000 Tickets sold every day\\n\",\n",
      "    \"\\nFLOWBIRD global payment platform manages more than 300M banking transactions a year. Over 100 million users per week in 80+ countries trust Flowbird's expertise, R&D and technology partnerships to reduce air pollution, provide EV charging, upgrade terminals, optimize traffic, manage enforcement, simplify payments and make urban spaces more vibrant and secure.\\n\",\n",
      "    \"\\nOUR MISSION\\nTo facilitate the individual journey and maximize a city's unique mobility potential, while considering all city stakeholders and end-user experiences. Through our devices, elite service platform and our teams, we enable a new era for maximizing urban harmony and value throughout the city's core.\\n\",\n",
      "    \"\\nFLOWBIRD CREATE SMART MOBILITY IN SMART CITIES\\nThe density of urban area continues to grow. The challenges of mobility are becoming crucial and communities all over the world are facing new trends, integrating or proposing new uses, a new way of living in the city. Multimodal and connected, the city of tomorrow will be \\u201csmart\\u201d or will not be!\\nFlowbird is the partner of cities for more than 60 years. It's unique portfolio of solutions , kiosks & mobile phone payment, are connected to a global technology platform delivering day to day benefits to end users and city decision makers.\\nWith Flowbird, the city becomes EASIER, SAFER, FASTER.\\n\",\n",
      "    \"\\nINNOVATION\\nFlowbird set a new business standard together with our customers. We continuously improve and renew our products, services and work methods in order to simplify people's everyday life and to become more effective and cost saving. We improve and invent new ways of packaging and offering our products and services.\\n\",\n",
      "    \"\\nOPENNESS\\nFlowbird has an open and straightforward communication with our customers and partners. We discuss challenges and opportunities openly within Flowbird. We offer open interfaces to our products and services in order to enable integration to other systems to create a higher value\\n\",\n",
      "    \"\\nRELIABILITY\\nCity services access are to be organized according users profiles and their city contributions. Our systems are the link between all the profiles and payments, offering the best service experience whilst ensuring city policies effectiveness. To support this approach we offer an ever-increasing number of payment & control methods.\\n\",\n",
      "    \"\\nWITH FLOWBIRD APP PARKING BECOMES EASIER.\\nFlowbird mobile app allows you to pay for parking in 3 simple steps. No more cash needed. Pay from anywhere. Avoid parking fines. No more waiting in line at the parking meter. Parking becomes easier, safer and faster with the Flowbird mobile app. Join our mobile parking community for free and experience the advantage of Flowbird.\\n\\n\",\n",
      "    \"\\nWHAT WE DO\\nAt Flowbird, we develop and improve our products together with our customers, mainly cities and private operators. Together we work to stay in the forefront of global trends and changes within the parking industry. We listen to the needs of our customers based on everyday experience of drivers/parkers. We ensure that we are continually working to improve technology in line with what motorists want in order to make parking a pleasant experience. All this helps us ensure that our concept remains successful in an ever-changing world and contributes to making cities connected and smarter.\\n\",\n",
      "    \"\\nINCREASED EFFICIENCY\\nInstead of paper tickets, payment is linked to the vehicle's registration number. Payment can be made via our mobile app or at a parking terminal. The parking user may have a valid residents permit for their vehicle. The parking enforcement officers scan the registration number and can then see whether the fee has been paid or not.\\n\\n\",\n",
      "    \"\\nINCREASED EFFICIENCY\\nInstead of paper tickets, payment is linked to the vehicle's registration number. Payment can be made via our mobile app or at a parking terminal. The parking user may have a valid residents permit for their vehicle. The parking enforcement officers scan the registration number and can then see whether the fee has been paid or not.\\n\",\n",
      "    \"\\nTOUCHSCREEN INTERFACE\\nTo address new digital behaviors and ensure the best user experience when it comes to parking payment and other services, Flowbird offers a secure 10-inch color touch screen that allows zooming, sliding,  and with interfaces and operating sequences similar to those of the mobile apps which users are already familiar with.\\n\\n\",\n",
      "    \"\\nIMPROVED CONTROL\\nAccess to aggregated information about the entire parking operation. When your analysis of data is more efficient and effective, the customers' willingness to pay increases.\\n\",\n",
      "    \"\\nKIOSK & TERMINALS\\nParking terminals are often the direct link between a motorist and a parking system. They need to be tough, reliable, and easy to use. Flowbird\\u00b4s terminals can withstand virtually any environment, be fully customisable and built with the future in mind.\\n\",\n",
      "    \"\\nFLOWBIRD ANALYTICS CONTROL\\nFlowbird Analytics Control is a tool for managing and mapping the deployment of parking enforcement officers. It is used to supervise enforcement areas containing a defined number of parking spaces. Secondly, it enables data to be collected and analysed by extraction from activity reports.\\n\",\n",
      "    \"\\nSUPERVISION FOR ACCURATE REPORTS\\nFlowbird Analytics Control lets you program the available parking spaces and map the enforcement areas where the officers are operating, to provide accurate and precise analyses and reports. Connecting the service to a single server provides the interface between PDAs (enforcement by officers) and ANPR (automatic enforcement vehicle). This provides the supervisor an overview of the checks completed as well as the dematerialized transactions carried out using the ticket machines and the Flowbird application.\\n\",\n",
      "    \"\\nCOMBAT FRAUD\\nFlowbird Analytics Control supervision provides precise guidance for enforcement officers, making it possible to create routes calculated for more efficient and better distributed rounds over service zones to combat parking fraud. Enforcement Officers are directed using geolocation to vehicles suspected of repeated fraud (ANPR pre-check) to avoid scanning all vehicles. So operating costs and recovery rates are optimised. This action, spread over the different round zones, enables rapid and regular collection of payments and fines.\\n\\n\",\n",
      "    \"\\nJOINING UP TOWNS AND CITIES\\nOn a global stage, Flowbird creates value for public transport operators, local authorities and citizens through innovations in automatic fare collection, real-time data management and digital technologies.\\nBy integrating ticketing and journey validation with ID-based and smart, contactless payment systems, and implementing congestion reduction strategies, we are helping towns and cities to plan for a future demanding seamless multi-modal travel.\\nFlowbird's key focus is to design and manufacture innovative quality products and services that can stand alone or be integrated with wider systems for our customers across the globe, backed up with a world class customer service experience.\\n\",\n",
      "    \"\\nAt Flowbird, our mission is to make it easier, safer and quicker for people to access and use public transport. We do this by providing operators and transit authorities of every size with the tools, systems and information they need to serve their customers better.\\nBy optimising operator efficiency and harmonising the flow of people and traffic, we create more sustainable transport systems, improve social cohesion and stimulate economic development.\\n\"\n",
      "]\n"
     ]
    }
   ],
   "source": [
    "# extract raw text\n",
    "raw_text_path = osp.join('../dataset/', \"raw.text\")\n",
    "raw_text = ''\n",
    "try:\n",
    "    f = open(raw_text_path)\n",
    "    raw_text = f.read()\n",
    "except:\n",
    "    raw_text = ''\n",
    "    \n",
    "text_cases = re.split(\"\"\"\n",
    "---\n",
    "\"\"\", raw_text, 0, re.MULTILINE)\n",
    "\n",
    "print(json.dumps(text_cases, indent=4))"
   ]
  },
  {
   "cell_type": "code",
   "execution_count": 46,
   "metadata": {},
   "outputs": [
    {
     "name": "stderr",
     "output_type": "stream",
     "text": [
      "/home/uns/.local/lib/python3.8/site-packages/transformers/pipelines/base.py:1070: UserWarning: You seem to be using the pipelines sequentially on GPU. In order to maximize efficiency please use a dataset\n",
      "  warnings.warn(\n"
     ]
    }
   ],
   "source": [
    "\n",
    "\n",
    "# process_raw_text(text_cases[0])\n",
    "# save_dataset()\n",
    "\n",
    "for case in text_cases:\n",
    "  process_raw_text(case)\n",
    "  save_dataset()"
   ]
  },
  {
   "cell_type": "code",
   "execution_count": 45,
   "metadata": {},
   "outputs": [
    {
     "name": "stdout",
     "output_type": "stream",
     "text": [
      "[\n",
      "    \"\",\n",
      "    \"Some of the challenges faced by Flowbird in implementing its solution include:\\n\\n*   Managing the integration of multiple systems and technologies, including mobile apps, terminals, and back-end systems.\\n*   Ensuring compatibility with different types of vehicles and payment methods.\\n*   Providing seamless customer service and support to users.\\n\\n\",\n",
      "    \"How does Flowbird's solution address these challenges?\\n\\n*   By leveraging advanced technology such as machine learning and artificial intelligence to automate processes and improve user experience.\\n*   By partnering with local administrations and operators to ensure compatibility and accessibility.\\n*   By providing comprehensive training and support to help customers get started and use the system effectively.\\n\\n\",\n",
      "    \"What are some potential benefits of using Flowbird's solution?\\n\\n*   Improved mobility and accessibility for people and goods in urban areas.\\n*   Reduced traffic congestion and air pollution through the promotion of sustainable transportation options.\\n*   Increased revenue for local governments and businesses through the collection of fees and charges.\"\n",
      "]\n",
      "[\n",
      "    \"\",\n",
      "    \"What are some of the challenges faced by Flowbird in implementing its solution?\\n\",\n",
      "    \"How does Flowbird's solution address these challenges?\\n\",\n",
      "    \"What are some potential benefits of using Flowbird's solution?\"\n",
      "]\n",
      "[]\n"
     ]
    }
   ],
   "source": [
    "# print(json.dumps(answers_array, indent=4))\n",
    "# print(json.dumps(questions_array, indent=4))\n",
    "# print(json.dumps(dataset, indent=4))\n",
    "\n",
    "# dataset = []\n",
    "\n",
    "\n",
    "# save_dataset()"
   ]
  }
 ],
 "metadata": {
  "accelerator": "GPU",
  "colab": {
   "machine_shape": "hm",
   "provenance": []
  },
  "gpuClass": "standard",
  "kernelspec": {
   "display_name": "Python 3 (ipykernel)",
   "language": "python",
   "name": "python3"
  },
  "language_info": {
   "codemirror_mode": {
    "name": "ipython",
    "version": 3
   },
   "file_extension": ".py",
   "mimetype": "text/x-python",
   "name": "python",
   "nbconvert_exporter": "python",
   "pygments_lexer": "ipython3",
   "version": "3.8.10"
  }
 },
 "nbformat": 4,
 "nbformat_minor": 1
}
