{
 "cells": [
  {
   "cell_type": "code",
   "execution_count": 4,
   "metadata": {},
   "outputs": [
    {
     "name": "stdout",
     "output_type": "stream",
     "text": [
      "['\"FLOWBIRD CREATE SMART MOBILITY\\\\nIN SMART CITIES \\\\n\\\\nThe density of urban area continues to grow. The challenges of mobility are becoming crucial and communities all over the world are facing new trends, integrating or proposing new uses, a new way of living in the city. Multimodal and connected, the city of tomorrow will be \\\\u201csmart\\\\u201d or will not be!\\\\n\\\\nFlowbird is the partner of cities for more than 60 years. It\\'s unique portfolio of solutions , kiosks & mobile phone payment, are connected to a global technology platform delivering day to day benefits to end users and city decision makers.\\\\n\\\\nWith Flowbird, the city becomes EASIER, SAFER, FASTER.\"']\n"
     ]
    }
   ],
   "source": [
    "import json\n",
    "\n",
    "raw_text =\"\"\"FLOWBIRD CREATE SMART MOBILITY\n",
    "IN SMART CITIES \n",
    "\n",
    "The density of urban area continues to grow. The challenges of mobility are becoming crucial and communities all over the world are facing new trends, integrating or proposing new uses, a new way of living in the city. Multimodal and connected, the city of tomorrow will be “smart” or will not be!\n",
    "\n",
    "Flowbird is the partner of cities for more than 60 years. It's unique portfolio of solutions , kiosks & mobile phone payment, are connected to a global technology platform delivering day to day benefits to end users and city decision makers.\n",
    "\n",
    "With Flowbird, the city becomes EASIER, SAFER, FASTER.\"\"\"\n",
    "\n",
    "raw = []\n",
    "\n",
    "raw.append(json.dumps(raw_text))\n",
    "\n",
    "print(raw)\n",
    "\n",
    "\n",
    "\n"
   ]
  }
 ],
 "metadata": {
  "kernelspec": {
   "display_name": "Python 3",
   "language": "python",
   "name": "python3"
  },
  "language_info": {
   "codemirror_mode": {
    "name": "ipython",
    "version": 3
   },
   "file_extension": ".py",
   "mimetype": "text/x-python",
   "name": "python",
   "nbconvert_exporter": "python",
   "pygments_lexer": "ipython3",
   "version": "3.8.10"
  },
  "orig_nbformat": 4
 },
 "nbformat": 4,
 "nbformat_minor": 2
}
